{
  "cells": [
    {
      "cell_type": "markdown",
      "metadata": {},
      "source": [
        "Current status: the image_shape='quadrant' option works (which is what pbasex\n",
        "does)."
      ]
    },
    {
      "cell_type": "code",
      "metadata": {},
      "source": [
        "import numpy as np\n",
        "import time\n",
        "from cpbasex.gData import get_gData\n",
        "import os\n",
        "import pathlib"
      ],
      "outputs": [],
      "execution_count": null
    },
    {
      "cell_type": "code",
      "metadata": {},
      "source": [
        "try:\n",
        "    CURRENT_SCRIPT_DIR = str(pathlib.Path(__file__).parent.resolve())+'/'\n",
        "except NameError:  # this will happen in .ipynb files\n",
        "    CURRENT_SCRIPT_DIR = os.path.abspath('')"
      ],
      "outputs": [],
      "execution_count": null
    },
    {
      "cell_type": "code",
      "metadata": {},
      "source": [
        "# Settings\n",
        "save_path = None # Automatic file naming if none\n",
        "save_dir = CURRENT_SCRIPT_DIR # Directory to save the data\n",
        "nx = 256  # 512x256 half-image, or 256x256 quadrant\n",
        "xkratio = 4 # Ratio of radial basis functions to pixel radii\n",
        "l_values = np.arange(5) # Up to l=4\n",
        "l_values = np.arange(0, 5, 2) # Up to l=4, even l only\n",
        "k_spacing = 'linear' # Even pixel or energy bins\n",
        "gData = {}\n",
        "gData['rBF'] = 'gauss' # Gaussian basis function\n",
        "image_shape = 'half'\n",
        "\n",
        "# Set up the parameters\n",
        "gData['x'] = np.arange(nx, dtype='double')-0.5 # we should have 0 = x[0] - 0.5*xstep \n",
        "\n",
        "if k_spacing=='linear':\n",
        "\tgData['k'] = np.arange(0, nx, xkratio) + 0.5 * (xkratio - 1)\n",
        "\tgData['params'] = 0.7 * xkratio # Gaussian width\n",
        "\n",
        "elif k_spacing=='quadratic':\n",
        "\tgData['k'] = np.sqrt(np.linspace(0, (nx-1)**2, nx))\n",
        "\tgData['params'] = xkratio\n",
        "\n",
        "gData['l'] = l_values\n",
        "\n",
        "if gData['rBF'] == 'custom':\n",
        "\n",
        "\tdef rBF(r, k, params):\n",
        "\t\treturn 1/((r-k)**2+(params/2)**2) # Lorentzian basis function\n",
        "\n",
        "\tdef zIP(r, k, params):\n",
        "\t\treturn np.sqrt((np.sqrt(max(0, 10-(params/2)**2)) + k)**2 - r**2)\n",
        "\n",
        "\ttrapz_step = 0.1\n",
        "\tcustom_rBF = (rBF, zIP, trapz_step)\n",
        "\n",
        "else:\n",
        "\tcustom_rBF = None\n",
        "\n",
        "np.seterr(\"ignore\")\n",
        "\n",
        "t0 = time.time()\n",
        "\n",
        "print('Setting up CPBASEX for half-images')\n",
        "get_gData(gData, save_path=save_path, save_dir=save_dir, custom_rBF=custom_rBF, nProc=1, shape='half')\n",
        "print('CPBASEX for half-images completed!')\n",
        "print()\n",
        "print('Setting up CPBASEX for quarter-images')\n",
        "get_gData(gData, save_path=save_path, save_dir=save_dir, custom_rBF=custom_rBF, nProc=1, shape='quadrant')\n",
        "print('Setting up CPBASEX for quarter-completed!')\n",
        "print()\n",
        "\n",
        "print(time.time()-t0, \"seconds elapsed\")"
      ],
      "outputs": [],
      "execution_count": null
    }
  ],
  "metadata": {
    "anaconda-cloud": {},
    "kernelspec": {
      "display_name": "Python 3",
      "language": "python",
      "name": "python3"
    },
    "language_info": {
      "codemirror_mode": {
        "name": "ipython",
        "version": 3
      },
      "file_extension": ".py",
      "mimetype": "text/x-python",
      "name": "python",
      "nbconvert_exporter": "python",
      "pygments_lexer": "ipython3",
      "version": "3.6.1"
    }
  },
  "nbformat": 4,
  "nbformat_minor": 4
}