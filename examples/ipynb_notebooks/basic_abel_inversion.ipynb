{
 "cells": [
  {
   "cell_type": "markdown",
   "metadata": {},
   "source": [
    "## Import statements"
   ]
  },
  {
   "cell_type": "code",
   "execution_count": null,
   "metadata": {},
   "outputs": [],
   "source": [
    "# uncomment the following line when you want to interact with the matplotlib plots\n",
    "#%matplotlib widget\n",
    "\n",
    "import os\n",
    "\n",
    "import numpy as np\n",
    "import matplotlib.pyplot as plt\n",
    "from matplotlib import colormaps\n",
    "cmap = colormaps.get_cmap('plasma')\n",
    "from fermi_libraries.run_module import Run, RunSets\n",
    "from fermi_libraries.common_functions import (\n",
    "    rebinning, simplify_data, weighted_linear_regression, name_from_runs,\n",
    "    set_recursion_limit, closest, resolve_path, find_subdir\n",
    "    )\n",
    "from fermi_libraries.dictionary_search import search_symbols\n",
    "import pathlib"
   ]
  },
  {
   "cell_type": "code",
   "execution_count": null,
   "metadata": {},
   "outputs": [],
   "source": [
    "try:\n",
    "    CURRENT_SCRIPT_DIR = str(pathlib.Path(__file__).parent.resolve())+'/'\n",
    "except NameError:  # this will happen in .ipynb files\n",
    "    CURRENT_SCRIPT_DIR = os.path.abspath('')"
   ]
  },
  {
   "cell_type": "markdown",
   "metadata": {},
   "source": [
    "### Function definitions (that you might change)"
   ]
  },
  {
   "cell_type": "code",
   "execution_count": null,
   "metadata": {},
   "outputs": [],
   "source": [
    "\n",
    "@set_recursion_limit(1)\n",
    "def keyword_functions(keyword, aliasFunc, DictionaryObject):\n",
    "    return DictionaryObject[aliasFunc(keyword)]"
   ]
  },
  {
   "cell_type": "markdown",
   "metadata": {},
   "source": [
    "### Alias definitions"
   ]
  },
  {
   "cell_type": "code",
   "execution_count": null,
   "metadata": {},
   "outputs": [],
   "source": [
    "\n",
    "# Alternative names for the HDF5 groupnames\n",
    "alias_dict = {\n",
    "    'vmi' : 'vmi/andor',\n",
    "    'ion_tof' : 'digitizer/channel1',\n",
    "    'delay' : 'user_laser/delay_line/position',\n",
    "    'slu' : 'user_laser/energy_meter/Energy2',\n",
    "    }"
   ]
  },
  {
   "cell_type": "markdown",
   "metadata": {},
   "source": [
    "---\n",
    "\n",
    "# ! Data selection !\n",
    "\n",
    "This block contains the variables you might change every different Run. \n",
    "Changing \"ion_tof_range\" or \"eon_tof_range\" __does not__ make the program run faster; we are limited\n",
    "by the compression in FERMI's HDF5 files. If working memory is a problem, then decrease these\n",
    "ranges."
   ]
  },
  {
   "cell_type": "code",
   "execution_count": null,
   "metadata": {},
   "outputs": [],
   "source": [
    "# BEAMTIME_DIR =  '/net/online4ldm/store/20234049/results/Beamtime/'  # expected directory at FERMI\n",
    "BEAMTIME_DIR =  f'{CURRENT_SCRIPT_DIR}/TestBeamtime/'\n",
    "BEAMTIME_DIR = find_subdir('TestBeamtime', resolve_path(CURRENT_SCRIPT_DIR, '../..'))\n",
    "DATA_DIR = f'{BEAMTIME_DIR}/Beamtime/'  # change from fictitious to the real raw data directory!\n",
    "SAVE_DIR = f'{BEAMTIME_DIR}/results/evaluation/'#'/net/online4ldm/store/20234049/results/results' # ditto\n",
    "\n",
    "SAVE_FILES = False\n",
    "\n",
    "BACKGROUND = True  # Only set to False if you want to sum up everything\n",
    "NAMEADD = 'test' # your name here\n",
    "run_numbers = np.arange(1,3)\n",
    "\n",
    "MAKE_CACHE = True\n",
    "LOAD_FROM_CACHE = False\n",
    "\n",
    "CALIBRATION_RUN_NUMBER = 1\n",
    "\n",
    "print(run_numbers)"
   ]
  },
  {
   "cell_type": "markdown",
   "metadata": {},
   "source": [
    "Create RunCollection (main data structure), and print location of our save directory"
   ]
  },
  {
   "cell_type": "code",
   "execution_count": null,
   "metadata": {},
   "outputs": [],
   "source": [
    "# This block loads all the relevent HDF5 filepaths into their respective Run.\n",
    "RunCollection = {}  # We will put all the 'Runs' in thes dictionary\n",
    "for run_id in (list(run_numbers) + [CALIBRATION_RUN_NUMBER,]):\n",
    "    folderpath = os.path.join(DATA_DIR, f'Run_{run_id:03d}/rawdata')\n",
    "    filepaths = [folderpath+'/'+filename for filename in os.listdir(folderpath)[::]]\n",
    "    RunCollection[run_id] = Run(filepaths,\n",
    "                                alias_dict=alias_dict, search_symbols=search_symbols,\n",
    "                                keyword_functions=keyword_functions,\n",
    "                                )  # create a Run object with its respective filepaths\n",
    "\n",
    "# This creates a set out of the run_numbers selected above\n",
    "BasicRunSet = RunSets([])\n",
    "for run in run_numbers:\n",
    "    BasicRunSet.add([RunCollection[run]])\n",
    "print(f'Data set contains {len(BasicRunSet.run_instances)} run(s).')\n",
    "\n",
    "run_name = f'Runs {run_numbers[0]}-{run_numbers[-1]}'\n",
    "run_string = name_from_runs(run_numbers)\n",
    "prefix = os.path.join(SAVE_DIR, run_string)\n",
    "outdir = (prefix + '_' + NAMEADD).rstrip('_')\n",
    "print(f'Save directory: ...{outdir[30:]}')\n",
    "\n",
    "CalibrationRun = RunCollection[CALIBRATION_RUN_NUMBER]"
   ]
  },
  {
   "cell_type": "markdown",
   "metadata": {},
   "source": [
    "Create directory if non-existent (and if we are actually saving files)"
   ]
  },
  {
   "cell_type": "code",
   "execution_count": null,
   "metadata": {},
   "outputs": [],
   "source": [
    "if SAVE_FILES:\n",
    "    if not os.path.exists(outdir):\n",
    "        os.mkdir(outdir)"
   ]
  },
  {
   "cell_type": "markdown",
   "metadata": {},
   "source": [
    "---\n",
    "\n",
    "# VMI images section"
   ]
  },
  {
   "cell_type": "code",
   "execution_count": null,
   "metadata": {},
   "outputs": [],
   "source": [
    "\n",
    "##%%time\n",
    "runset_vmi = BasicRunSet.average_run_data('vmi',back_sep=BACKGROUND,\n",
    "                                    make_cache=MAKE_CACHE, use_cache=LOAD_FROM_CACHE)\n",
    "fore_vmi, back_vmi, *_ = simplify_data(runset_vmi, single_rule=True, single_run=False)"
   ]
  },
  {
   "cell_type": "markdown",
   "metadata": {},
   "source": [
    "By convention, the data axes will be (x-axis, y-axis, images). This shape is\n",
    "necessary for cpbasex to work easily.\n",
    "\n",
    "Show the VMI images"
   ]
  },
  {
   "cell_type": "code",
   "execution_count": null,
   "metadata": {},
   "outputs": [],
   "source": [
    "\n",
    "from cpbasex.cpbasex import cpbasex as cpbasex_inversion, cpbasex_energy as cpbasex_energy_inversion\n",
    "from cpbasex.gData import loadG\n",
    "from cpbasex.image_mod import resize, resizeFoldedHalf, foldHalf\n",
    "\n",
    "sub_vmi = fore_vmi - back_vmi\n",
    "sub_vmi = sub_vmi.transpose(1,2,0)\n",
    "\n",
    "vmi = resize(sub_vmi, (512, 512), axis=(0,1))\n",
    "\n",
    "show_raw_vmi = sub_vmi[:,:,0]\n",
    "show_bin_vmi = vmi[:,:,0]\n",
    "fig, (ax1, ax2) = plt.subplots(1,2, figsize=(9,4))\n",
    "cax1 = ax1.imshow(show_raw_vmi)\n",
    "ax1.set_title(f'first raw VMI image\\nshape={show_raw_vmi.shape}')\n",
    "fig.colorbar(cax1, ax=ax1)\n",
    "ax1.grid()\n",
    "cax2 = ax2.imshow(show_bin_vmi)\n",
    "ax2.set_title(f'binned VMI image\\nshape={show_bin_vmi.shape}')\n",
    "fig.colorbar(cax2, ax=ax2)\n",
    "ax2.grid()\n",
    "plt.show()"
   ]
  },
  {
   "cell_type": "markdown",
   "metadata": {},
   "source": [
    "Correct the VMI images for rotation, stretching, and centering"
   ]
  },
  {
   "cell_type": "code",
   "execution_count": null,
   "metadata": {},
   "outputs": [],
   "source": [
    "\n",
    "test_image = vmi[:,:,0]\n",
    "\n",
    "from cpbasex.image_mod import find_center, find_rotation, find_ellipticity\n",
    "from cpbasex.image_mod import center_image, rotate, stretch\n",
    "\n",
    "\n",
    "if True: # straightforward way; rotation -> ellipticity -> center\n",
    "    guess_rot = find_rotation(test_image)\n",
    "    guess_ell = find_ellipticity(test_image)\n",
    "    guess_cen = find_center(test_image, center_guess=(250,250), r_max=30)\n",
    "    print('center found at: ' + str(guess_cen))\n",
    "\n",
    "# guess_corrrection = zoom(rotate(center_image(test_image, guess_cen), guess_rot), guess_ell)\n",
    "test_correction = stretch(rotate(center_image(test_image, guess_cen), guess_rot), [1,1.1])\n",
    "\n",
    "fig, (ax1, ax2) = plt.subplots(1,2, figsize=(9,4))\n",
    "cax1 = ax1.imshow(test_image)\n",
    "ax1.set_title('before image')\n",
    "ax1.grid()\n",
    "fig.colorbar(cax1, ax=ax1)\n",
    "cax2 = ax2.imshow(test_correction)\n",
    "ax2.set_title('corrected image')\n",
    "ax2.grid()\n",
    "fig.colorbar(cax2, ax=ax2)\n",
    "plt.show()\n",
    "\n",
    "corrected = [stretch(rotate(center_image(image, guess_cen), guess_rot), [1,1.1]) for image in vmi]"
   ]
  },
  {
   "cell_type": "markdown",
   "metadata": {},
   "source": [
    "Fold the VMI images in preparation for the Abel inversion"
   ]
  },
  {
   "cell_type": "code",
   "execution_count": null,
   "metadata": {},
   "outputs": [],
   "source": [
    "\n",
    "x0, y0 = 264, 260\n",
    "half_filter = [True, True]\n",
    "folded = foldHalf(vmi, x0=x0, y0=y0, half_filter=half_filter)\n",
    "resized = resizeFoldedHalf(folded, 256)\n",
    "\n",
    "plt.imshow(resized[:,:,0])\n",
    "plt.title(f'Half-folded. [left, right]={half_filter}')\n",
    "plt.grid()\n",
    "plt.show()"
   ]
  },
  {
   "cell_type": "markdown",
   "metadata": {},
   "source": [
    "Load the (large) Abel inversion object"
   ]
  },
  {
   "cell_type": "code",
   "execution_count": null,
   "metadata": {},
   "outputs": [],
   "source": [
    "\n",
    "# load inversion object\n",
    "MAKE_IMAGES = True\n",
    "PROJECT_DIRECTORY = resolve_path(CURRENT_SCRIPT_DIR, '../..')\n",
    "gData = loadG(f'{PROJECT_DIRECTORY}/G_r256_k64_l4_half.h5', make_images=MAKE_IMAGES)"
   ]
  },
  {
   "cell_type": "markdown",
   "metadata": {},
   "source": [
    "Perform the Abel inversion"
   ]
  },
  {
   "cell_type": "code",
   "execution_count": null,
   "metadata": {},
   "outputs": [],
   "source": [
    "out = cpbasex_energy_inversion(resized, gData, make_images=MAKE_IMAGES, shape='half')"
   ]
  },
  {
   "cell_type": "markdown",
   "metadata": {},
   "source": [
    "Look at the Abel inversion in radial-coordinates, to determine the energy calibration"
   ]
  },
  {
   "cell_type": "code",
   "execution_count": null,
   "metadata": {},
   "outputs": [],
   "source": [
    "rsquare = out['E']\n",
    "rsquare_spectrum = out['IE']\n",
    "betas = out['betas']\n",
    "\n",
    "cal_rsquare_coor = rsquare\n",
    "cal_rsquare_spec = rsquare_spectrum[:,0]  # use first image for energy calibration\n",
    "\n",
    "rsquare_energy_points = np.array([\n",
    "    [12000, 1],\n",
    "    [38000, 2],\n",
    "    [45000, 3],\n",
    "])\n",
    "\n",
    "slope, *_ = weighted_linear_regression(*rsquare_energy_points.T, zero_intercept=True)\n",
    "rsquare_points, energy_points = rsquare_energy_points.T\n",
    "\n",
    "rsquare_to_energy = lambda x: slope * x\n",
    "energies = rsquare_to_energy(rsquare)\n",
    "pes = rsquare_spectrum / slope # jacobian correction\n",
    "\n",
    "fig, (ax1, ax2) = plt.subplots(1, 2, figsize=(6,3))\n",
    "ax1.plot(cal_rsquare_coor, cal_rsquare_spec)\n",
    "ax1.plot(rsquare_points, cal_rsquare_spec[closest(rsquare_points, cal_rsquare_coor)], marker='v', linestyle='')\n",
    "ax1.set_xlabel(f'r$^{2}$')\n",
    "ax1.set_ylabel(f'radial-squared density (arb.u.)')\n",
    "ax1.set_title(f'radial-squared distribution')\n",
    "# set_default_labels(ax1, title='calibration points', xlabel='tof (ns)', ylabel='tof (ns)')\n",
    "# set_default_labels(ax2, title='calibration fit', xlabel='tof (ns)', ylabel='m/q')\n",
    "ax1.grid()\n",
    "ax2.plot(rsquare_points, energy_points, linestyle='', marker='o')\n",
    "ax2.plot(rsquare_points, rsquare_points*slope)\n",
    "ax2.plot(rsquare, rsquare_to_energy(rsquare), color='black')\n",
    "ax2.set_xlabel(r'r$^{2}$')\n",
    "ax2.set_ylabel(r'KE (eV)')\n",
    "ax2.set_title('calibration fit')\n",
    "ax2.set_ylim(0, None)\n",
    "ax2.set_xlim(0, None)\n",
    "plt.tight_layout()\n",
    "plt.show()\n"
   ]
  },
  {
   "cell_type": "markdown",
   "metadata": {},
   "source": [
    "Example of plotting all PES together in a 2D plot"
   ]
  },
  {
   "cell_type": "code",
   "execution_count": null,
   "metadata": {},
   "outputs": [],
   "source": [
    "\n",
    "fig, ax = plt.subplots(1,1, figsize=(6,4))\n",
    "cax = ax.pcolormesh(np.arange(len(run_numbers)), energies, pes)\n",
    "ax.set_xticks(np.arange(len(run_numbers)))\n",
    "ax.set_xticklabels([f'Run {run_number:03d}' for run_number in run_numbers], rotation=90)\n",
    "ax.set_ylabel('eKE (eV)')\n",
    "ax.set_title(f'PES for Runs {run_numbers[0]:03d}-{run_numbers[-1]:03d}')\n",
    "fig.colorbar(cax, ax=ax)\n",
    "plt.tight_layout()\n",
    "plt.show()"
   ]
  },
  {
   "cell_type": "markdown",
   "metadata": {},
   "source": [
    "Some other things you could look at.\n",
    "Raw image, PES (with B2 and B4 parameters), least-squares fit, fit residual, and inverted image."
   ]
  },
  {
   "cell_type": "code",
   "execution_count": null,
   "metadata": {},
   "outputs": [],
   "source": [
    "\n",
    "from fermi_libraries.common_functions import get_colour\n",
    "\n",
    "Nimages = np.shape(vmi)[2]\n",
    "fig, axes = plt.subplots(Nimages, 5, figsize=(14,5))\n",
    "axes[0][0].set_title('vmi Image')\n",
    "axes[-1][1].set_xlabel('Energy (eV)')\n",
    "axes[0][2].set_title('Fitted Image')\n",
    "axes[0][3].set_title('Fit Residual')\n",
    "axes[0][4].set_title('Inverted Image')\n",
    "for i, run_number in zip(range(Nimages), run_numbers):\n",
    "    ax = axes[i]\n",
    "    cax0 = ax[0].imshow(vmi[:,:,i])\n",
    "    clim = cax0.get_clim()\n",
    "    fig.colorbar(cax0, ax=ax[0])\n",
    "    ax[0].set_ylabel(f'Run {run_number:03d}')\n",
    "    ax[1].plot(energies, pes[:,i], 'k')\n",
    "    axbetas = ax[1].twinx()\n",
    "    axbetas.set_ylim(-2,2)\n",
    "    axbetas.plot(energies, betas[:,:,i], '.', markersize=5, alpha=0.6)\n",
    "    if i==0:\n",
    "        plt.text(0.1, 1.1, 'I(E)', color='black', ha='center', va='center', transform=ax[1].transAxes, fontsize=14)\n",
    "        plt.text(0.3, 1.1, 'B2', color=get_colour(0), ha='center', va='center', transform=ax[1].transAxes, fontsize=14)\n",
    "        plt.text(0.5, 1.1, 'B4', color=get_colour(1), ha='center', va='center', transform=ax[1].transAxes, fontsize=14)\n",
    "        pass\n",
    "    cax2 = ax[2].imshow(out['fit'][:,:,i]/2)\n",
    "    cax2.set_clim(0,clim[1])\n",
    "    fig.colorbar(cax2, ax=ax[2])\n",
    "    cax3 = ax[3].imshow(out['fit'][:,:,i]/2-vmi[:,:,i])\n",
    "    # cax4.set_clim(0,clim[1]/5)\n",
    "    fig.colorbar(cax3, ax=ax[3])\n",
    "    cax4 = ax[4].imshow(out['inv'][:,:,i]/2)\n",
    "    fig.colorbar(cax4, ax=ax[4])\n",
    "plt.tight_layout()\n",
    "plt.show()\n"
   ]
  }
 ],
 "metadata": {
  "anaconda-cloud": {},
  "kernelspec": {
   "display_name": "Python 3",
   "language": "python",
   "name": "python3"
  },
  "language_info": {
   "codemirror_mode": {
    "name": "ipython",
    "version": 3
   },
   "file_extension": ".py",
   "mimetype": "text/x-python",
   "name": "python",
   "nbconvert_exporter": "python",
   "pygments_lexer": "ipython3",
   "version": "3.6.1"
  }
 },
 "nbformat": 4,
 "nbformat_minor": 4
}
