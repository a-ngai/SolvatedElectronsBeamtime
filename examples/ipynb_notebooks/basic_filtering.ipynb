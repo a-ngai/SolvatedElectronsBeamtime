{
 "cells": [
  {
   "cell_type": "markdown",
   "metadata": {},
   "source": [
    "# Set-up for Intensity-binning analysis"
   ]
  },
  {
   "cell_type": "markdown",
   "metadata": {},
   "source": [
    "## Import statements"
   ]
  },
  {
   "cell_type": "code",
   "execution_count": null,
   "metadata": {},
   "outputs": [],
   "source": [
    "# uncomment the following line when you want to interact with the matplotlib plots\n",
    "#%matplotlib widget\n",
    "\n",
    "import os\n",
    "\n",
    "import numpy as np\n",
    "import matplotlib.pyplot as plt\n",
    "from fermi_libraries.run_module import Run, RunSets\n",
    "from fermi_libraries.common_functions import (\n",
    "    rebinning, simplify_data, name_from_runs, set_recursion_limit,\n",
    "    resolve_path, find_subdir)\n",
    "from fermi_libraries.calibration_tools import (\n",
    "    tof_to_mq_conversion, mq_to_tof_conversion)\n",
    "from fermi_libraries.dictionary_search import search_symbols\n",
    "import pathlib"
   ]
  },
  {
   "cell_type": "code",
   "execution_count": null,
   "metadata": {},
   "outputs": [],
   "source": [
    "try:\n",
    "    CURRENT_SCRIPT_DIR = str(pathlib.Path(__file__).parent.resolve())+'/'\n",
    "except NameError:  # this will happen in .ipynb files\n",
    "    CURRENT_SCRIPT_DIR = os.path.abspath('')"
   ]
  },
  {
   "cell_type": "markdown",
   "metadata": {},
   "source": [
    "### Function definitions (that you might change)"
   ]
  },
  {
   "cell_type": "code",
   "execution_count": null,
   "metadata": {},
   "outputs": [],
   "source": [
    "@set_recursion_limit(1)\n",
    "def keyword_functions(keyword, aliasFunc, DictionaryObject):\n",
    "    return DictionaryObject[aliasFunc(keyword)][()]"
   ]
  },
  {
   "cell_type": "markdown",
   "metadata": {},
   "source": [
    "### Alias definitions"
   ]
  },
  {
   "cell_type": "code",
   "execution_count": null,
   "metadata": {},
   "outputs": [],
   "source": [
    "# Figure bookkeeping to save memory\n",
    "figs = {}\n",
    "def newfig(id, *args, **kwargs):\n",
    "    id = 0\n",
    "    if id in figs:\n",
    "        plt.close(figs[id].number)\n",
    "    fig, ax = plt.subplots(*args, **kwargs)\n",
    "    figs.update({id: fig})\n",
    "    return fig, ax\n",
    "\n",
    "# Alternative names for the HDF5 groupnames\n",
    "alias_dict = {\n",
    "    'i0m' : 'photon_diagnostics/FEL01/I0_monitor/iom_sh_a',\n",
    "    'i0m_current' : 'photon_diagnostics/FEL01/I0_monitor/iom_sh_a_pc',\n",
    "    'vmi' : 'vmi/andor',\n",
    "    'ion_tof' : 'digitizer/channel1',\n",
    "    'delay' : 'user_laser/delay_line/position',\n",
    "    'slu' : 'user_laser/energy_meter/Energy2',\n",
    "    'fel_spectrometer' : 'photon_diagnostics/Spectrometer/hor_spectrum',\n",
    "    'fel_wavelength' : 'photon_source/FEL01/wavelength',\n",
    "    'seed_spectrometer' : 'photon_source/SeedLaserSpectrum_FEL01/WaveMeta',\n",
    "    'seed_wavelength' : 'photon_source/SeedLaser/Wavelength',\n",
    "    'seed_wavelengths' : 'photon_source/SeedLaserSpectrum_FEL01/LambdaMeta',\n",
    "    'harmonic_number' : 'photon_source/FEL01/harmonic_number',\n",
    "    'bunch_number' : 'bunches',\n",
    "    'pressure' : 'photon_diagnostics/FEL01/Gas_Attenuator/Pressure',\n",
    "    'poletto' : 'cosp/HorSpectrum',\n",
    "    }"
   ]
  },
  {
   "cell_type": "markdown",
   "metadata": {},
   "source": [
    "---\n",
    "\n",
    "# ! Data selection !\n",
    "\n",
    "This block contains the variables you might change every different Run. \n",
    "Changing \"ion_tof_range\" or \"eon_tof_range\" __does not__ make the program run faster; we are limited\n",
    "by the compression in FERMI's HDF5 files. If working memory is a problem, then decrease these\n",
    "ranges."
   ]
  },
  {
   "cell_type": "code",
   "execution_count": null,
   "metadata": {},
   "outputs": [],
   "source": [
    "BEAMTIME_DIR = '/net/online4ldm/store/20234049'\n",
    "DATA_DIR = f'{BEAMTIME_DIR}/Beamtime/'\n",
    "SAVE_DIR = f'{BEAMTIME_DIR}/results/evaluation/'#'/net/online4ldm/store/20234049/results/results' # ditto\n",
    "\n",
    "SAVE_FILES = False\n",
    "\n",
    "BACKGROUND = True  # Only set to False if you want to sum up everything\n",
    "NAMEADD = 'test' # your name here\n",
    "run_numbers = np.arange(1,3)\n",
    "\n",
    "\n",
    "# variables for data extraction ans rebinning\n",
    "ION_TOF_REBIN = 10\n",
    "ion_tof_range = (4000, 30000, 1) # select ion tof range for plotting\n",
    "new_ion_mq = np.linspace(0.1,200,num=1200)\n",
    "\n",
    "ion_tof_slices = [ion_tof_range]\n",
    "\n",
    "raw_ion_tof = np.arange(*ion_tof_slices[0])\n",
    "ion_tof = raw_ion_tof[::ION_TOF_REBIN]\n",
    "\n",
    "MAKE_CACHE = True\n",
    "LOAD_FROM_CACHE = False\n",
    "\n",
    "CALIBRATION_RUN_NUMBER = 1\n",
    "\n",
    "print(run_numbers)"
   ]
  },
  {
   "cell_type": "markdown",
   "metadata": {},
   "source": [
    "Create RunCollection (main data structure), and print location of our save directory"
   ]
  },
  {
   "cell_type": "code",
   "execution_count": null,
   "metadata": {},
   "outputs": [],
   "source": [
    "# This block loads all the relevent HDF5 filepaths into their respective Run.\n",
    "RunCollection = {}  # We will put all the 'Runs' in thes dictionary\n",
    "for run_id in (list(run_numbers) + [CALIBRATION_RUN_NUMBER,]):\n",
    "    folderpath = os.path.join(DATA_DIR, f'Run_{run_id:03d}/rawdata')\n",
    "    filepaths = [folderpath+'/'+filename for filename in os.listdir(folderpath)[::]]\n",
    "    RunCollection[run_id] = Run(filepaths,\n",
    "                                alias_dict=alias_dict, search_symbols=search_symbols,\n",
    "                                keyword_functions=keyword_functions,\n",
    "                                )  # create a Run object with its respective filepaths\n",
    "\n",
    "# This creates a set out of the run_numbers selected above\n",
    "BasicRunSet = RunSets([])\n",
    "for run in run_numbers:\n",
    "    BasicRunSet.add([RunCollection[run]])\n",
    "print(f'Data set contains {len(BasicRunSet.run_instances)} run(s).')\n",
    "\n",
    "run_name = f'Runs {run_numbers[0]}-{run_numbers[-1]}'\n",
    "run_string = name_from_runs(run_numbers)\n",
    "prefix = os.path.join(SAVE_DIR, run_string)\n",
    "outdir = (prefix + '_' + NAMEADD).rstrip('_')\n",
    "print(f'Save directory: ...{outdir[30:]}')"
   ]
  },
  {
   "cell_type": "markdown",
   "metadata": {},
   "source": [
    "Create directory if non-existent (and if we are actually saving files)"
   ]
  },
  {
   "cell_type": "code",
   "execution_count": null,
   "metadata": {},
   "outputs": [],
   "source": [
    "if SAVE_FILES:\n",
    "    if not os.path.exists(outdir):\n",
    "        os.mkdir(outdir)"
   ]
  },
  {
   "cell_type": "markdown",
   "metadata": {},
   "source": [
    "---\n",
    "\n",
    "# Show Run-averaged background-subtracted ion TOF\n",
    "\n",
    "The output for Runset.averageRunData and Runset.average_run_data_weights has the\n",
    "axes shape (rule, condition, run, data):\n",
    "\"rule\" are the filtering rules\n",
    "\"condition\" is in the order (FEL:ON SLU:ON, FEL:OFF SLU:ON, FEL:ON SLU:OFF, FEL:OFF SLU:OFF)\n",
    "\"run\" are the individual Runs\n",
    "\"data\" is the average rundata/weights"
   ]
  },
  {
   "cell_type": "code",
   "execution_count": null,
   "metadata": {},
   "outputs": [],
   "source": [
    "raw_i0m_rundata = BasicRunSet.give_rundata('i0m', make_cache=False, use_cache=False)\n",
    "try:\n",
    "    i0m_runset_data, *_ = simplify_data(raw_i0m_rundata, single_rule=True)  # can use simplify_data, because no rules\n",
    "except:\n",
    "    fore_rundata_i0m, back_rundata_iom, *_ = raw_i0m_rundata\n",
    "    i0m_runset_data = fore_rundata_i0m\n",
    "    for i in range(len(i0m_runset_data)):  # collapse the rule dimension\n",
    "        i0m_runset_data[i] = i0m_runset_data[i][0]\n",
    "\n",
    "\n",
    "fig, ax = plt.subplots(figsize=(5,2))\n",
    "ax.plot(i0m_runset_data[0,:,0])\n",
    "ax.set_ylabel('I0M (uJ)')\n",
    "ax.set_xlabel('shot number')\n",
    "ax.set_title('shot-by-shot I0M values')\n",
    "plt.tight_layout()\n",
    "plt.show()"
   ]
  },
  {
   "cell_type": "markdown",
   "metadata": {},
   "source": [
    "Define rules for filtering here"
   ]
  },
  {
   "cell_type": "code",
   "execution_count": null,
   "metadata": {},
   "outputs": [],
   "source": [
    "i0m_edges = np.linspace(-4.5, -3.0, num=4)\n",
    "i0m_bins = i0m_edges[:-1]\n",
    "i0m_filter_rules = [f'(i0m>{lo} & i0m<{hi})' for lo, hi in zip(i0m_edges[:-1], i0m_edges[1:])]\n",
    "print(f'i0m filter rules: {i0m_filter_rules}')"
   ]
  },
  {
   "cell_type": "markdown",
   "metadata": {},
   "source": [
    "Get ion TOF spectra, binned by each of the filtering rules."
   ]
  },
  {
   "cell_type": "code",
   "execution_count": null,
   "metadata": {},
   "outputs": [],
   "source": [
    "runset_ion_tof_data = BasicRunSet.average_run_data('ion_tof', back_sep=BACKGROUND,\n",
    "                                    slice_range=ion_tof_slices,\n",
    "                                    rules=i0m_filter_rules,\n",
    "                                    make_cache=MAKE_CACHE, use_cache=LOAD_FROM_CACHE)\n",
    "fore_ion_tof_rawdata, back_ion_tof_rawdata, *_ = simplify_data(runset_ion_tof_data, single_rule=False)\n",
    "print(f'shape is (rules, runs, data): {np.shape(fore_ion_tof_rawdata)}')"
   ]
  },
  {
   "cell_type": "code",
   "execution_count": null,
   "metadata": {},
   "outputs": [],
   "source": [
    "subt_ion_tof_rawdata = -(fore_ion_tof_rawdata - back_ion_tof_rawdata)\n",
    "subt_ion_tof_spectra = rebinning(ion_tof, raw_ion_tof, subt_ion_tof_rawdata, axis=2)\n",
    "\n",
    "show_N_runs = 2\n",
    "show_N_rules = 3\n",
    "fig, axes = plt.subplots(show_N_rules, 1, figsize=(6,6))\n",
    "for i, (rule, collected_data) in enumerate(zip(i0m_filter_rules, subt_ion_tof_spectra)):\n",
    "    ax = axes[i]\n",
    "    for run_number, data in zip(run_numbers, collected_data):\n",
    "        ax.plot(ion_tof, data, label=f'Run {run_number:03d}')\n",
    "    ax.legend()\n",
    "    ax.set_ylabel('ion TOF signal (arb.u.)')\n",
    "    ax.set_title(f'filter rule: {i0m_filter_rules[0]}')\n",
    "    ax.set_xlim(8000, 15000)\n",
    "axes[0].set_ylabel('ion TOF signal signal (arb.u.)')\n",
    "axes[0].set_title(f'Ion TOF spectra\\nfilter rule: {i0m_filter_rules[0]}')\n",
    "axes[-1].set_xlabel('ion TOF (ns)')\n",
    "plt.tight_layout()\n",
    "\n",
    "plt.show()\n",
    "\n"
   ]
  },
  {
   "cell_type": "markdown",
   "metadata": {},
   "source": [
    "Use calibration constants for ion TOF -> ion mass/charge spectra"
   ]
  },
  {
   "cell_type": "code",
   "execution_count": null,
   "metadata": {},
   "outputs": [],
   "source": [
    "ion_t0 = 6059.316278073492\n",
    "ion_propconst = 7.440783535983542e-07 \n",
    "ion_constants = ion_t0, ion_propconst\n",
    "\n",
    "print(f\"Using ion constants: (t0, C) = {ion_constants}\")\n",
    "tof_to_mq = lambda tof, spec, axis=None: tof_to_mq_conversion(tof, spec, *ion_constants, axis=axis)\n",
    "mq_to_tof = lambda mq, spec, axis=None: mq_to_tof_conversion(mq, spec, *ion_constants, axis=axis)"
   ]
  },
  {
   "cell_type": "code",
   "execution_count": null,
   "metadata": {},
   "outputs": [],
   "source": [
    "mq_raw_coor, mq_raw_spectrum = tof_to_mq(raw_ion_tof, subt_ion_tof_rawdata, axis=2)\n",
    "mq_coor = np.linspace(0.1, 70, num=1000)\n",
    "mq_spectra = rebinning(mq_coor, mq_raw_coor, mq_raw_spectrum, axis=2)\n",
    "\n",
    "show_N_runs = 2\n",
    "show_N_rules = 3\n",
    "fig, axes = plt.subplots(show_N_rules, 1, figsize=(6,6))\n",
    "for i, (rule, collected_mq_data) in enumerate(zip(i0m_filter_rules, mq_spectra)):\n",
    "    ax = axes[i]\n",
    "    for run_number, data in zip(run_numbers, collected_mq_data):\n",
    "        ax.plot(mq_coor, data, label=f'Run {run_number:03d}')\n",
    "    ax.legend()\n",
    "    ax.set_ylabel('ion m/q signal (arb.u.)')\n",
    "    ax.set_title(f'filter rule: {i0m_filter_rules[0]}')\n",
    "    # ax.set_ylabel(f'rule: {rule}')\n",
    "    ax.set_xlim(0, 40)\n",
    "axes[0].set_ylabel('ion m/q signal (arb.u.)')\n",
    "axes[0].set_title(f'Ion mass/charge spectra\\nfilter rule: {i0m_filter_rules[0]}')\n",
    "axes[-1].set_xlabel('m/q')\n",
    "plt.tight_layout()\n",
    "plt.show()"
   ]
  },
  {
   "cell_type": "markdown",
   "metadata": {},
   "source": [
    "Perform filtering rules on VMI data here"
   ]
  },
  {
   "cell_type": "code",
   "execution_count": null,
   "metadata": {},
   "outputs": [],
   "source": [
    "runset_vmi_data = BasicRunSet.average_run_data('vmi', back_sep=BACKGROUND,\n",
    "                                    rules=i0m_filter_rules,\n",
    "                                    make_cache=MAKE_CACHE, use_cache=LOAD_FROM_CACHE)\n",
    "fore_vmi_rawdata, back_vmi_rawdata, *_ = simplify_data(runset_vmi_data, single_rule=False)\n",
    "print(f'shape is (rules, runs, data): {np.shape(fore_ion_tof_rawdata)}')"
   ]
  },
  {
   "cell_type": "code",
   "execution_count": null,
   "metadata": {},
   "outputs": [],
   "source": [
    "subt_vmi_rawdata = (fore_vmi_rawdata - back_vmi_rawdata)\n",
    "\n",
    "show_N_runs = 2\n",
    "show_N_rules = 3\n",
    "fig, axes = plt.subplots(show_N_rules, show_N_runs, figsize=(6,6))\n",
    "for i, (rule, collected_data) in enumerate(zip(i0m_filter_rules, subt_vmi_rawdata)):\n",
    "    ax = axes[i]\n",
    "    for j, (run_number, data) in enumerate(zip(run_numbers, collected_data)):\n",
    "        cax = ax[j].imshow(data, label=f'Run {run_number:03d}')\n",
    "        fig.colorbar(cax, ax=ax[j])\n",
    "        if i==0: ax[j].set_title(f'Run {run_number:03d}')\n",
    "    ax[0].set_ylabel(f'VMI filter rule:\\n{rule}')\n",
    "# axes[0].set_title(f'Ion TOF spectra\\nfilter rule: {i0m_filter_rules[0]}')\n",
    "plt.tight_layout()\n",
    "plt.show()"
   ]
  }
 ],
 "metadata": {
  "anaconda-cloud": {},
  "kernelspec": {
   "display_name": "Python 3",
   "language": "python",
   "name": "python3"
  },
  "language_info": {
   "codemirror_mode": {
    "name": "ipython",
    "version": 3
   },
   "file_extension": ".py",
   "mimetype": "text/x-python",
   "name": "python",
   "nbconvert_exporter": "python",
   "pygments_lexer": "ipython3",
   "version": "3.6.1"
  }
 },
 "nbformat": 4,
 "nbformat_minor": 4
}
