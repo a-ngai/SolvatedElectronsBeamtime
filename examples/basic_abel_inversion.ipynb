{
  "cells": [
    {
      "cell_type": "markdown",
      "metadata": {},
      "source": [
        "## Import statements"
      ]
    },
    {
      "cell_type": "code",
      "metadata": {},
      "source": [
        "# uncomment the following line when you want to interact with the matplotlib plots\n",
        "#%matplotlib widget\n",
        "\n",
        "import os\n",
        "\n",
        "import numpy as np\n",
        "import matplotlib.pyplot as plt\n",
        "from matplotlib import colormaps\n",
        "cmap = colormaps.get_cmap('plasma')\n",
        "from fermi_libraries.run_module import Run, RunSets\n",
        "from fermi_libraries.common_functions import (\n",
        "    rebinning, simplify_data, \n",
        "    name_from_runs,\n",
        "    set_default_labels,\n",
        "    set_recursion_limit,\n",
        "    )\n",
        "from fermi_libraries.dictionary_search import search_symbols"
      ],
      "outputs": [],
      "execution_count": null
    },
    {
      "cell_type": "markdown",
      "metadata": {},
      "source": [
        "### Function definitions (that you might change)"
      ]
    },
    {
      "cell_type": "code",
      "metadata": {},
      "source": [
        "\n",
        "@set_recursion_limit(1)\n",
        "def keyword_functions(keyword, aliasFunc, DictionaryObject):\n",
        "    return DictionaryObject[aliasFunc(keyword)]"
      ],
      "outputs": [],
      "execution_count": null
    },
    {
      "cell_type": "markdown",
      "metadata": {},
      "source": [
        "### Alias definitions"
      ]
    },
    {
      "cell_type": "code",
      "metadata": {},
      "source": [
        "\n",
        "# Alternative names for the HDF5 groupnames\n",
        "alias_dict = {\n",
        "    'vmi' : 'vmi/andor',\n",
        "    'ion_tof' : 'digitizer/channel1',\n",
        "    'delay' : 'user_laser/delay_line/position',\n",
        "    'slu' : 'user_laser/energy_meter/Energy2',\n",
        "    }"
      ],
      "outputs": [],
      "execution_count": null
    },
    {
      "cell_type": "markdown",
      "metadata": {},
      "source": [
        "---\n",
        "\n",
        "# ! Data selection !\n",
        "\n",
        "This block contains the variables you might change every different Run. \n",
        "Changing \"ion_tof_range\" or \"eon_tof_range\" __does not__ make the program run faster; we are limited\n",
        "by the compression in FERMI's HDF5 files. If working memory is a problem, then decrease these\n",
        "ranges."
      ]
    },
    {
      "cell_type": "code",
      "metadata": {},
      "source": [
        "# BEAMTIME_DIR =  '/net/online4ldm/store/20234049/results/Beamtime/'  # expected directory at FERMI\n",
        "import pathlib\n",
        "current_script_dir = str(pathlib.Path(__file__).parent.resolve())+'/'\n",
        "BEAMTIME_DIR =  current_script_dir + 'TestBeamtime/'\n",
        "DATA_DIR = BEAMTIME_DIR+'Beamtime/'  # change from fictitious to the real raw data directory!\n",
        "SAVE_DIR = BEAMTIME_DIR+'results/evaluation/'#'/net/online4ldm/store/20234049/results/results' # ditto\n",
        "\n",
        "SAVE_FILES = False\n",
        "\n",
        "BACKGROUND = True  # Only set to False if you want to sum up everything\n",
        "NAMEADD = 'test' # your name here\n",
        "run_numbers = np.arange(1,3)\n",
        "\n",
        "MAKE_CACHE = True\n",
        "LOAD_FROM_CACHE = False\n",
        "\n",
        "calibration_run_number = 1\n",
        "\n",
        "print(run_numbers)"
      ],
      "outputs": [],
      "execution_count": null
    },
    {
      "cell_type": "markdown",
      "metadata": {},
      "source": [
        "Create RunCollection (main data structure), and print location of our save directory"
      ]
    },
    {
      "cell_type": "code",
      "metadata": {},
      "source": [
        "# This block loads all the relevent HDF5 filepaths into their respective Run.\n",
        "RunCollection = {}  # We will put all the 'Runs' in thes dictionary\n",
        "for run_id in (list(run_numbers) + [calibration_run_number,]):\n",
        "    folderpath = os.path.join(DATA_DIR, f'Run_{run_id:03d}/rawdata')\n",
        "    filepaths = [folderpath+'/'+filename for filename in os.listdir(folderpath)[::]]\n",
        "    RunCollection[run_id] = Run(filepaths,\n",
        "                                alias_dict=alias_dict, search_symbols=search_symbols,\n",
        "                                keyword_functions=keyword_functions,\n",
        "                                )  # create a Run object with its respective filepaths\n",
        "\n",
        "# This creates a set out of the run_numbers selected above\n",
        "BasicRunSet = RunSets([])\n",
        "for run in run_numbers:\n",
        "    BasicRunSet.add([RunCollection[run]])\n",
        "print(f'Data set contains {len(BasicRunSet.run_instances)} run(s).')\n",
        "\n",
        "run_name = f'Runs {run_numbers[0]}-{run_numbers[-1]}'\n",
        "run_string = name_from_runs(run_numbers)\n",
        "prefix = os.path.join(SAVE_DIR, run_string)\n",
        "outdir = (prefix + '_' + NAMEADD).rstrip('_')\n",
        "print(f'Save directory: ...{outdir[30:]}')"
      ],
      "outputs": [],
      "execution_count": null
    },
    {
      "cell_type": "markdown",
      "metadata": {},
      "source": [
        "Create directory if non-existent (and if we are actually saving files)"
      ]
    },
    {
      "cell_type": "code",
      "metadata": {},
      "source": [
        "if SAVE_FILES:\n",
        "    if not os.path.exists(outdir):\n",
        "        os.mkdir(outdir)"
      ],
      "outputs": [],
      "execution_count": null
    },
    {
      "cell_type": "markdown",
      "metadata": {},
      "source": [
        "---\n",
        "\n",
        "# VMI images section"
      ]
    },
    {
      "cell_type": "code",
      "metadata": {},
      "source": [
        "\n",
        "##%%time\n",
        "runset_vmi = BasicRunSet.average_run_data('vmi',back_sep=BACKGROUND,\n",
        "                                    make_cache=MAKE_CACHE, use_cache=LOAD_FROM_CACHE)\n",
        "fore_vmi, back_vmi = simplify_data(runset_vmi, single_rule=True, single_run=False)"
      ],
      "outputs": [],
      "execution_count": null
    },
    {
      "cell_type": "markdown",
      "metadata": {},
      "source": [
        "By convention, the data axes will be (x-axis, y-axis, images). This shape is\n",
        "necessary for cpbasex to work easily.\n",
        "\n",
        "Show the VMI images"
      ]
    },
    {
      "cell_type": "code",
      "metadata": {},
      "source": [
        "\n",
        "from cpbasex import resizeFoldedHalf, foldHalf, loadG, cpbasex as cpbasex_inversion\n",
        "from cpbasex.image_mod import resize\n",
        "\n",
        "sub_vmi = fore_vmi - back_vmi\n",
        "sub_vmi = sub_vmi.transpose(1,2,0)\n",
        "\n",
        "vmi = resize(sub_vmi, (512, 512), axis=(0,1))\n",
        "\n",
        "show_raw_vmi = sub_vmi[:,:,0]\n",
        "show_bin_vmi = vmi[:,:,0]\n",
        "fig, (ax1, ax2) = plt.subplots(1,2, figsize=(9,4))\n",
        "cax1 = ax1.imshow(show_raw_vmi)\n",
        "ax1.set_title(f'first raw VMI image\\nshape={show_raw_vmi.shape}')\n",
        "fig.colorbar(cax1, ax=ax1)\n",
        "ax1.grid()\n",
        "cax2 = ax2.imshow(show_bin_vmi)\n",
        "ax2.set_title(f'binned VMI image\\nshape={show_bin_vmi.shape}')\n",
        "fig.colorbar(cax2, ax=ax2)\n",
        "ax2.grid()\n",
        "plt.show()"
      ],
      "outputs": [],
      "execution_count": null
    },
    {
      "cell_type": "markdown",
      "metadata": {},
      "source": [
        "Correcting the VMI images"
      ]
    },
    {
      "cell_type": "code",
      "metadata": {},
      "source": [
        "\n",
        "test_image = vmi[:,:,0]\n",
        "\n",
        "from cpbasex.image_mod import find_center, find_rotation, find_ellipticity\n",
        "from cpbasex.image_mod import center_image, rotate, stretch\n",
        "\n",
        "\n",
        "if True: # straightforward way; rotation -> ellipticity -> center\n",
        "    guess_rot = find_rotation(test_image)\n",
        "    guess_ell = find_ellipticity(test_image)\n",
        "    guess_cen = find_center(test_image, center_guess=(250,250), r_max=30)\n",
        "\n",
        "# guess_corrrection = zoom(rotate(center_image(test_image, guess_cen), guess_rot), guess_ell)\n",
        "test_correction = stretch(rotate(center_image(test_image, guess_cen), guess_rot), [1,1.1])\n",
        "\n",
        "fig, (ax1, ax2) = plt.subplots(1,2, figsize=(9,4))\n",
        "cax1 = ax1.imshow(test_image)\n",
        "ax1.set_title('before image')\n",
        "ax1.grid()\n",
        "fig.colorbar(cax1, ax=ax1)\n",
        "cax2 = ax2.imshow(test_correction)\n",
        "ax2.set_title('corrected image')\n",
        "ax2.grid()\n",
        "fig.colorbar(cax2, ax=ax2)\n",
        "plt.show()\n",
        "\n",
        "corrected = [stretch(rotate(center_image(image, guess_cen), guess_rot), [1,1.1]) for image in vmi]\n",
        "\n",
        "if False: # to make image correction easier, these should \"commute\"\n",
        "    find_rotation()\n",
        "    find_ellipticity()\n",
        "    find_center()"
      ],
      "outputs": [],
      "execution_count": null
    },
    {
      "cell_type": "markdown",
      "metadata": {},
      "source": [
        "Fold the VMI images in preparation for the Abel inversion"
      ]
    },
    {
      "cell_type": "code",
      "metadata": {},
      "source": [
        "\n",
        "x0, y0 = 264, 260\n",
        "half_filter = [True, True]\n",
        "folded = foldHalf(vmi, x0=x0, y0=y0, half_filter=half_filter)\n",
        "resized = resizeFoldedHalf(folded, 256)\n",
        "\n",
        "plt.imshow(resized[:,:,0])\n",
        "plt.title(f'Half-folded. [left, right]={half_filter}')\n",
        "plt.grid()\n",
        "plt.show()"
      ],
      "outputs": [],
      "execution_count": null
    },
    {
      "cell_type": "markdown",
      "metadata": {},
      "source": [
        "Perform the Abel inversion"
      ]
    },
    {
      "cell_type": "code",
      "metadata": {},
      "source": [
        "\n",
        "# load inversion object\n",
        "MAKE_IMAGES = True\n",
        "gData = loadG(current_script_dir+'G_r256_k64_l4_half.h5', make_images=MAKE_IMAGES)\n",
        "\n",
        "# Apply the pBASEX algorithm\n",
        "out = cpbasex_inversion(resized, gData, make_images=MAKE_IMAGES, alpha=4.1e-5, shape='half')\n",
        "energy, pes, betas, c = out['E'], out['IE'], out['betas'], out['c']\n",
        "if MAKE_IMAGES: fit, inv = out['fit'], out['inv']\n",
        "\n",
        "raw = vmi\n",
        "\n",
        "Nimages = np.shape(vmi)[2]\n",
        "fig, axes = plt.subplots(Nimages, 5, figsize=(14,5))\n",
        "axes[0][0].set_title('Raw Image')\n",
        "axes[-1][1].set_xlabel('Energy (eV)')\n",
        "axes[0][2].set_title('Fitted Image')\n",
        "axes[0][3].set_title('Fit Residual')\n",
        "axes[0][4].set_title('Inverted Image')\n",
        "for i in range(Nimages):\n",
        "    ax = axes[i]\n",
        "    cax0 = ax[0].imshow(raw[:,:,i])\n",
        "    clim = cax0.get_clim()\n",
        "    fig.colorbar(cax0, ax=ax[0])\n",
        "    ax[0].set_ylabel(i)\n",
        "    ax[1].plot(out['E'], out['IE'][:,i], 'k')\n",
        "    axbetas = ax[1].twinx()\n",
        "    axbetas.set_ylim(-2,2)\n",
        "    axbetas.plot(out['E'], out['betas'][:,:,i], '.', markersize=5, alpha=0.6)\n",
        "\t# plt.gca().ticklabel_format(axis='y', style='sci', scilimits=(-2,2))\n",
        "    if i==0:\n",
        "\t\t# plt.text(-3, 3.5, 'counts per eV', size='small')\n",
        "\t\t# plt.text(12, 3.5, 'beta', size='small')\n",
        "\t\t# plt.text(3.5, 3.25, 'I(E), ', color='black', size='large')\n",
        "\t\t# plt.text(6, 3.25, 'B2', color=u'#1f77b4', size='large')\n",
        "\t\t# plt.text(7.5, 3.25, ', ', color='black', size='large')\n",
        "\t\t# plt.text(8, 3.25, 'B4', color=u'#ff7f0e', size='large')\n",
        "        pass\n",
        "    cax2 = ax[2].imshow(out['fit'][:,:,i]/2)\n",
        "    cax2.set_clim(0,clim[1])\n",
        "    fig.colorbar(cax2, ax=ax[2])\n",
        "    cax3 = ax[3].imshow(out['fit'][:,:,i]/2-raw[:,:,i])\n",
        "    # cax4.set_clim(0,clim[1]/5)\n",
        "    fig.colorbar(cax3, ax=ax[3])\n",
        "    cax4 = ax[4].imshow(out['inv'][:,:,i]/2)\n",
        "    fig.colorbar(cax4, ax=ax[4])\n",
        "plt.tight_layout()\n",
        "plt.show()\n"
      ],
      "outputs": [],
      "execution_count": null
    }
  ],
  "metadata": {
    "anaconda-cloud": {},
    "kernelspec": {
      "display_name": "Python 3",
      "language": "python",
      "name": "python3"
    },
    "language_info": {
      "codemirror_mode": {
        "name": "ipython",
        "version": 3
      },
      "file_extension": ".py",
      "mimetype": "text/x-python",
      "name": "python",
      "nbconvert_exporter": "python",
      "pygments_lexer": "ipython3",
      "version": "3.6.1"
    }
  },
  "nbformat": 4,
  "nbformat_minor": 4
}