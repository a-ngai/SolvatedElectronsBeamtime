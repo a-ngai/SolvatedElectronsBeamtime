{
  "cells": [
    {
      "cell_type": "markdown",
      "metadata": {},
      "source": [
        "# Set-up for ion-m/q Calibration"
      ]
    },
    {
      "cell_type": "markdown",
      "metadata": {},
      "source": [
        "## Import statements"
      ]
    },
    {
      "cell_type": "code",
      "metadata": {},
      "source": [
        "# uncomment the following line when you want to interact with the matplotlib plots\n",
        "#%matplotlib widget\n",
        "\n",
        "import os\n",
        "\n",
        "import numpy as np\n",
        "import matplotlib.pyplot as plt\n",
        "from fermi_libraries.run_module import Run, RunSets\n",
        "from fermi_libraries.common_functions import (\n",
        "    rebinning, simplify_data, \n",
        "    name_from_runs, set_default_labels, closest)\n",
        "from fermi_libraries.calibration_tools import (\n",
        "    tof_mq_calibration, tof_to_mq_conversion, mq_to_tof_conversion, \n",
        "    tof_mq_coordinate_func, mq_tof_coordinate_func)\n",
        "from fermi_libraries.dictionary_search import search_symbols\n",
        "\n",
        "def keyword_functions(keyword, aliasFunc, DictionaryObject):\n",
        "    return DictionaryObject[aliasFunc(keyword)]"
      ],
      "outputs": [],
      "execution_count": null
    },
    {
      "cell_type": "markdown",
      "metadata": {},
      "source": [
        "### Alias definitions"
      ]
    },
    {
      "cell_type": "code",
      "metadata": {},
      "source": [
        "# Figure bookkeeping to save memory\n",
        "figs = {}\n",
        "def newfig(id, *args, **kwargs):\n",
        "    id = 0\n",
        "    if id in figs:\n",
        "        plt.close(figs[id].number)\n",
        "    fig, ax = plt.subplots(*args, **kwargs)\n",
        "    figs.update({id: fig})\n",
        "    return fig, ax\n",
        "\n",
        "# Alternative names for the HDF5 groupnames\n",
        "alias_dict = {\n",
        "    'i0m' : 'photon_diagnostics/FEL01/I0_monitor/iom_sh_a',\n",
        "    'vmi' : 'vmi/andor',\n",
        "    'ion_tof' : 'digitizer/channel1',\n",
        "    'delay' : 'user_laser/delay_line/position',\n",
        "    'slu' : 'user_laser/energy_meter/Energy2',\n",
        "    'fel_spectrometer' : 'photon_diagnostics/Spectrometer/hor_spectrum',\n",
        "    'fel_wavelength' : 'photon_source/FEL01/wavelength',\n",
        "    'seed_spectrometer' : 'photon_source/SeedLaserSpectrum_FEL01/WaveMeta',\n",
        "    'seed_wavelength' : 'photon_source/SeedLaser/Wavelength',\n",
        "    'seed_wavelengths' : 'photon_source/SeedLaserSpectrum_FEL01/LambdaMeta',\n",
        "    'harmonic_number' : 'photon_source/FEL01/harmonic_number',\n",
        "    'bunch_number' : 'bunches',\n",
        "    'pressure' : 'photon_diagnostics/FEL01/Gas_Attenuator/Pressure',\n",
        "    'poletto' : 'cosp/HorSpectrum',\n",
        "    }"
      ],
      "outputs": [],
      "execution_count": null
    },
    {
      "cell_type": "markdown",
      "metadata": {},
      "source": [
        "---\n",
        "\n",
        "# ! Data selection !\n",
        "\n",
        "This block contains the variables you might change every different Run. \n",
        "Changing \"ion_tof_range\" or \"eon_tof_range\" __does not__ make the program run faster; we are limited\n",
        "by the compression in FERMI's HDF5 files. If working memory is a problem, then decrease these\n",
        "ranges."
      ]
    },
    {
      "cell_type": "code",
      "metadata": {},
      "source": [
        "# BEAMTIME_DIR =  '/net/online4ldm/store/20209112b/results/TestData/'\n",
        "BEAMTIME_DIR =  'TestBeamtime/'\n",
        "DATA_DIR = BEAMTIME_DIR+'Beamtime/'  # change from fictitious to the real raw data directory!\n",
        "SAVE_DIR = BEAMTIME_DIR+'results/evaluation/'#'/net/online4ldm/store/20209134/results/results' # ditto\n",
        "\n",
        "SAVE_FILES = False\n",
        "\n",
        "NAMEADD = 'test' # your name here\n",
        "run_numbers = np.arange(1,3)  # Run numbers to be analyzed in this script\n",
        "\n",
        "ION_TOF_REBIN = 5  # rebinning factor for data visualization\n",
        "ion_tof_range = (4000, 30000, 1) # select ion tof range for extraction\n",
        "\n",
        "BACKGROUND = True  # Only set to False if you want to sum up everything\n",
        "MAKE_CACHE = True  # You can keep this True\n",
        "LOAD_FROM_CACHE = False # if data looks weird, set to False to refresh the cache\n",
        "\n",
        "CALIBRATION_RUN_NUMBER = 1"
      ],
      "outputs": [],
      "execution_count": null
    },
    {
      "cell_type": "code",
      "metadata": {},
      "source": [
        "\n",
        "print(run_numbers)\n",
        "ion_tof_slices = [ion_tof_range]\n",
        "raw_ion_tof = np.arange(*ion_tof_slices[0])\n",
        "ion_tof = raw_ion_tof[::ION_TOF_REBIN]"
      ],
      "outputs": [],
      "execution_count": null
    },
    {
      "cell_type": "markdown",
      "metadata": {},
      "source": [
        "Create RunCollection (main data structure), and print location of our save directory"
      ]
    },
    {
      "cell_type": "code",
      "metadata": {},
      "source": [
        "# This block loads all the relevent HDF5 filepaths into their respective Run.\n",
        "RunCollection = {}  # We will put all the 'Runs' in thes dictionary\n",
        "for run_id in (list(run_numbers) + [CALIBRATION_RUN_NUMBER,]):\n",
        "    folderpath = os.path.join(DATA_DIR, f'Run_{run_id:03d}/rawdata')\n",
        "    filepaths = [folderpath+'/'+filename for filename in os.listdir(folderpath)[::]]\n",
        "    RunCollection[run_id] = Run(filepaths,\n",
        "                                alias_dict=alias_dict, search_symbols=search_symbols,\n",
        "                                keyword_functions=keyword_functions,\n",
        "                                )  # create a Run object with its respective filepaths\n",
        "\n",
        "# This creates a set out of the run_numbers selected above\n",
        "BasicRunSet = RunSets([])\n",
        "for run in run_numbers:\n",
        "    BasicRunSet.add([RunCollection[run]])\n",
        "print(f'Data set contains {len(BasicRunSet.run_instances)} run(s).')\n",
        "\n",
        "run_name = f'Runs {run_numbers[0]}-{run_numbers[-1]}'\n",
        "run_string = name_from_runs(run_numbers)\n",
        "prefix = os.path.join(SAVE_DIR, run_string)\n",
        "outdir = (prefix + '_' + NAMEADD).rstrip('_')\n",
        "print(f'Save directory: ...{outdir[30:]}')"
      ],
      "outputs": [],
      "execution_count": null
    },
    {
      "cell_type": "markdown",
      "metadata": {},
      "source": [
        "Create directory if non-existent (and if we are actually saving files)"
      ]
    },
    {
      "cell_type": "code",
      "metadata": {},
      "source": [
        "if SAVE_FILES:\n",
        "    if not os.path.exists(outdir):\n",
        "        os.mkdir(outdir)"
      ],
      "outputs": [],
      "execution_count": null
    },
    {
      "cell_type": "markdown",
      "metadata": {},
      "source": [
        "---\n",
        "\n",
        "# Show the average background-subtracted electron TOF for each Run\n",
        "\n",
        "The output for Runset.averageRunData and Runset.average_run_data_weights has the\n",
        "axes shape (rule, condition, run, data):\n",
        "\"rule\" are the filtering rules\n",
        "\"condition\" is in the order (FEL:ON SLU:ON, FEL:OFF SLU:ON, FEL:ON SLU:OFF, FEL:OFF SLU:OFF)\n",
        "\"run\" are the individual Runs\n",
        "\"data\" is the average rundata/weights"
      ]
    },
    {
      "cell_type": "code",
      "metadata": {},
      "source": [
        "runset_ion_tof_data = BasicRunSet.average_run_data('ion_tof', \n",
        "    back_sep=BACKGROUND, slice_range=ion_tof_slices,\n",
        "    make_cache=MAKE_CACHE, use_cache=LOAD_FROM_CACHE)\n",
        "fore_ion_tof_rawdata, back_ion_tof_rawdata = simplify_data(runset_ion_tof_data, single_rule=True)"
      ],
      "outputs": [],
      "execution_count": null
    },
    {
      "cell_type": "code",
      "metadata": {},
      "source": [
        "subt_ion_tof_rawdata = -(fore_ion_tof_rawdata - back_ion_tof_rawdata)\n",
        "ion_tof_spectra = rebinning(ion_tof, raw_ion_tof, subt_ion_tof_rawdata, axis=1)\n",
        "\n",
        "fig, ax = plt.subplots(1,1,figsize=(12,4))\n",
        "for (runnumber, ion_tof_spectrum) in zip(run_numbers, ion_tof_spectra):\n",
        "    ax.plot(ion_tof, ion_tof_spectrum, label=f\"Run_{runnumber:03d}\")\n",
        "ax.legend(bbox_to_anchor=(1.04, 1), borderaxespad=0, ncol = 2)\n",
        "ax.set_xlabel('ion TOF')\n",
        "ax.set_ylabel('ion TOF signal; rebinned (arb.u.)')\n",
        "ax.set_title(f'{run_name}: run averages')\n",
        "ax.set_ylim(-1,1)\n",
        "\n",
        "if SAVE_FILES: fig.savefig(outdir+'/Average_of_complete_run.png')\n",
        "plt.show()"
      ],
      "outputs": [],
      "execution_count": null
    },
    {
      "cell_type": "code",
      "metadata": {},
      "source": [
        "\n",
        "ion_tof_mq_peaks = np.array([\n",
        "    # [5000, 999],\n",
        "    [6000, 0],\n",
        "    [10500, 14],\n",
        "    [12000, 28],\n",
        "    [13100, 36],\n",
        "])\n",
        "tof_points, mq_points = ion_tof_mq_peaks.T\n",
        "\n",
        "ion_cal_rawdata = RunCollection[CALIBRATION_RUN_NUMBER].average_run_data('ion_tof', \n",
        "    back_sep=BACKGROUND, slice_range=ion_tof_slices,\n",
        "    make_cache=MAKE_CACHE, use_cache=LOAD_FROM_CACHE)\n",
        "fore_ion_rundata, back_ion_rundata = simplify_data(ion_cal_rawdata)\n",
        "cal_sub_spectrum = back_ion_rundata[:,0] - fore_ion_rundata[:,0]\n",
        "\n",
        "ion_calibration_dict = tof_mq_calibration(peaks=ion_tof_mq_peaks)\n",
        "(_, _, _, _, ion_constants_dict) = list(ion_calibration_dict.values())\n",
        "print(f'calibration constants:  {ion_constants_dict}')\n",
        "ion_constants = ion_constants_dict['timezero'], ion_constants_dict['C']\n",
        "tof_mq_coor_func = lambda tof: tof_mq_coordinate_func(tof, *ion_constants)\n",
        "mq_tof_coor_func = lambda mq: mq_tof_coordinate_func(mq, *ion_constants)\n",
        "tof_to_mq = lambda tof, spec, axis=None: tof_to_mq_conversion(tof, spec, *ion_constants, axis=axis)\n",
        "mq_to_tof = lambda mq, spec, axis=None: mq_to_tof_conversion(mq, spec, *ion_constants, axis=axis)\n",
        "\n",
        "model_tof = np.linspace(np.min(tof_points), np.max(tof_points), num=1000)\n",
        "fig, (ax1, ax2) = plt.subplots(1,2,figsize=(12,4))\n",
        "ax1.plot(tof_points, cal_sub_spectrum[closest(tof_points, ion_tof)], marker='v', linestyle='')\n",
        "ax1.plot(raw_ion_tof, cal_sub_spectrum)\n",
        "# ax1.set_xlim(5000,7000)\n",
        "set_default_labels(ax1, title='calibration points', xlabel='tof (ns)', ylabel='tof (ns)')\n",
        "ax2.plot(tof_points, mq_points, marker='o', linestyle='')\n",
        "ax2.plot(model_tof, tof_mq_coor_func(model_tof), color='black')\n",
        "set_default_labels(ax2, title='calibration fit', xlabel='tof (ns)', ylabel='m/q')\n",
        "plt.show()\n"
      ],
      "outputs": [],
      "execution_count": null
    },
    {
      "cell_type": "code",
      "metadata": {},
      "source": [
        "\n",
        "mq_raw_coor, mq_raw_spectra = tof_to_mq(ion_tof, ion_tof_spectra, axis=1)\n",
        "mq_coor = np.linspace(0.1, 70, num=1000)\n",
        "mq_spectra = rebinning(mq_coor, mq_raw_coor, mq_raw_spectra, axis=1)\n",
        "\n",
        "fig, (ax1, ax2) = plt.subplots(1,2,figsize=(12,4))\n",
        "for (runnumber, ion_tof_spec_i) in zip(run_numbers, ion_tof_spectra):\n",
        "    ax1.plot(ion_tof, ion_tof_spec_i, label=f\"Run_{runnumber:03d}\")\n",
        "ax1.legend()\n",
        "ax1.set_xlabel('ion TOF')\n",
        "ax1.set_ylabel('ion TOF signal; rebinned (arb.u.)')\n",
        "ax1.set_title(f'{run_name}: run averages')\n",
        "ax1.grid()\n",
        "\n",
        "for (runnumber, mq_spec_i) in zip(run_numbers, mq_spectra):\n",
        "    ax2.plot(mq_coor, mq_spec_i, label=f\"Run_{runnumber:03d}\")\n",
        "ax2.legend()\n",
        "ax2.set_xlabel('m/q')\n",
        "ax2.set_ylabel('ion TOF signal; rebinned (arb.u.)')\n",
        "ax2.set_title(f'{run_name}: run averages')\n",
        "ax2.grid()\n",
        "plt.show()\n"
      ],
      "outputs": [],
      "execution_count": null
    }
  ],
  "metadata": {
    "anaconda-cloud": {},
    "kernelspec": {
      "display_name": "Python 3",
      "language": "python",
      "name": "python3"
    },
    "language_info": {
      "codemirror_mode": {
        "name": "ipython",
        "version": 3
      },
      "file_extension": ".py",
      "mimetype": "text/x-python",
      "name": "python",
      "nbconvert_exporter": "python",
      "pygments_lexer": "ipython3",
      "version": "3.6.1"
    }
  },
  "nbformat": 4,
  "nbformat_minor": 4
}