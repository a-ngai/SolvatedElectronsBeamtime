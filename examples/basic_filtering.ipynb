{
  "cells": [
    {
      "cell_type": "markdown",
      "metadata": {},
      "source": [
        "# Set-up for Intensity-binning analysis"
      ]
    },
    {
      "cell_type": "markdown",
      "metadata": {},
      "source": [
        "## Import statements"
      ]
    },
    {
      "cell_type": "code",
      "metadata": {},
      "source": [
        "# uncomment the following line when you want to interact with the matplotlib plots\n",
        "#%matplotlib widget\n",
        "import os\n",
        "\n",
        "import numpy as np\n",
        "import matplotlib.pyplot as plt\n",
        "from matplotlib import colormaps\n",
        "from fermi_libraries.run_module import Run, RunSets\n",
        "from fermi_libraries.common_functions import (\n",
        "    rebinning, simplify_data, name_from_runs, set_recursion_limit)\n",
        "from fermi_libraries.calibration_tools import (\n",
        "    tof_to_mq_conversion, mq_to_tof_conversion)\n",
        "from fermi_libraries.dictionary_search import search_symbols"
      ],
      "outputs": [],
      "execution_count": null
    },
    {
      "cell_type": "markdown",
      "metadata": {},
      "source": [
        "### Function definitions (that you might change)"
      ]
    },
    {
      "cell_type": "code",
      "metadata": {},
      "source": [
        "@set_recursion_limit(1)\n",
        "def keyword_functions(keyword, aliasFunc, DictionaryObject):\n",
        "    return DictionaryObject[aliasFunc(keyword)]"
      ],
      "outputs": [],
      "execution_count": null
    },
    {
      "cell_type": "markdown",
      "metadata": {},
      "source": [
        "### Alias definitions"
      ]
    },
    {
      "cell_type": "code",
      "metadata": {},
      "source": [
        "# Figure bookkeeping to save memory\n",
        "figs = {}\n",
        "def newfig(id, *args, **kwargs):\n",
        "    id = 0\n",
        "    if id in figs:\n",
        "        plt.close(figs[id].number)\n",
        "    fig, ax = plt.subplots(*args, **kwargs)\n",
        "    figs.update({id: fig})\n",
        "    return fig, ax\n",
        "\n",
        "# Alternative names for the HDF5 groupnames\n",
        "alias_dict = {\n",
        "    'i0m' : 'photon_diagnostics/FEL01/I0_monitor/iom_sh_a',\n",
        "    'i0m_current' : 'photon_diagnostics/FEL01/I0_monitor/iom_sh_a_pc',\n",
        "    'vmi' : 'vmi/andor',\n",
        "    'ion_tof' : 'digitizer/channel1',\n",
        "    'delay' : 'user_laser/delay_line/position',\n",
        "    'slu' : 'user_laser/energy_meter/Energy2',\n",
        "    'fel_spectrometer' : 'photon_diagnostics/Spectrometer/hor_spectrum',\n",
        "    'fel_wavelength' : 'photon_source/FEL01/wavelength',\n",
        "    'seed_spectrometer' : 'photon_source/SeedLaserSpectrum_FEL01/WaveMeta',\n",
        "    'seed_wavelength' : 'photon_source/SeedLaser/Wavelength',\n",
        "    'seed_wavelengths' : 'photon_source/SeedLaserSpectrum_FEL01/LambdaMeta',\n",
        "    'harmonic_number' : 'photon_source/FEL01/harmonic_number',\n",
        "    'bunch_number' : 'bunches',\n",
        "    'pressure' : 'photon_diagnostics/FEL01/Gas_Attenuator/Pressure',\n",
        "    'poletto' : 'cosp/HorSpectrum',\n",
        "    }"
      ],
      "outputs": [],
      "execution_count": null
    },
    {
      "cell_type": "markdown",
      "metadata": {},
      "source": [
        "---\n",
        "\n",
        "# ! Data selection !\n",
        "\n",
        "This block contains the variables you might change every different Run. \n",
        "Changing \"ion_tof_range\" or \"eon_tof_range\" __does not__ make the program run faster; we are limited\n",
        "by the compression in FERMI's HDF5 files. If working memory is a problem, then decrease these\n",
        "ranges."
      ]
    },
    {
      "cell_type": "code",
      "metadata": {},
      "source": [
        "# BEAMTIME_DIR =  '/net/online4ldm/store/20209112b/results/TestData/'\n",
        "BEAMTIME_DIR =  'TestBeamtime/'\n",
        "DATA_DIR = BEAMTIME_DIR+'Beamtime/'  # change from fictitious to the real raw data directory!\n",
        "SAVE_DIR = BEAMTIME_DIR+'results/evaluation/'#'/net/online4ldm/store/20209134/results/results' # ditto\n",
        "\n",
        "SAVE_FILES = False\n",
        "\n",
        "BACKGROUND = True  # Only set to False if you want to sum up everything\n",
        "NAMEADD = 'test' # your name here\n",
        "run_numbers = np.arange(1,3)\n",
        "\n",
        "\n",
        "# variables for data extraction ans rebinning\n",
        "ION_TOF_REBIN = 10\n",
        "ion_tof_range = (4000, 30000, 1) # select ion tof range for plotting\n",
        "new_ion_mq = np.linspace(0.1,200,num=1200)\n",
        "\n",
        "ion_tof_slices = [ion_tof_range]\n",
        "\n",
        "raw_ion_tof = np.arange(*ion_tof_slices[0])\n",
        "ion_tof = raw_ion_tof[::ION_TOF_REBIN]\n",
        "\n",
        "MAKE_CACHE = True\n",
        "LOAD_FROM_CACHE = False\n",
        "\n",
        "calibration_run_number = 1\n",
        "\n",
        "print(run_numbers)"
      ],
      "outputs": [],
      "execution_count": null
    },
    {
      "cell_type": "markdown",
      "metadata": {},
      "source": [
        "Create RunCollection (main data structure), and print location of our save directory"
      ]
    },
    {
      "cell_type": "code",
      "metadata": {},
      "source": [
        "# This block loads all the relevent HDF5 filepaths into their respective Run.\n",
        "RunCollection = {}  # We will put all the 'Runs' in thes dictionary\n",
        "for run_id in (list(run_numbers) + [calibration_run_number,]):\n",
        "    folderpath = os.path.join(DATA_DIR, f'Run_{run_id:03d}/rawdata')\n",
        "    filepaths = [folderpath+'/'+filename for filename in os.listdir(folderpath)[::]]\n",
        "    RunCollection[run_id] = Run(filepaths,\n",
        "                                alias_dict=alias_dict, search_symbols=search_symbols,\n",
        "                                keyword_functions=keyword_functions,\n",
        "                                )  # create a Run object with its respective filepaths\n",
        "\n",
        "# This creates a set out of the run_numbers selected above\n",
        "BasicRunSet = RunSets([])\n",
        "for run in run_numbers:\n",
        "    BasicRunSet.add([RunCollection[run]])\n",
        "print(f'Data set contains {len(BasicRunSet.run_instances)} run(s).')\n",
        "\n",
        "run_name = f'Runs {run_numbers[0]}-{run_numbers[-1]}'\n",
        "run_string = name_from_runs(run_numbers)\n",
        "prefix = os.path.join(SAVE_DIR, run_string)\n",
        "outdir = (prefix + '_' + NAMEADD).rstrip('_')\n",
        "print(f'Save directory: ...{outdir[30:]}')"
      ],
      "outputs": [],
      "execution_count": null
    },
    {
      "cell_type": "markdown",
      "metadata": {},
      "source": [
        "Create directory if non-existent (and if we are actually saving files)"
      ]
    },
    {
      "cell_type": "code",
      "metadata": {},
      "source": [
        "if SAVE_FILES:\n",
        "    if not os.path.exists(outdir):\n",
        "        os.mkdir(outdir)"
      ],
      "outputs": [],
      "execution_count": null
    },
    {
      "cell_type": "markdown",
      "metadata": {},
      "source": [
        "---\n",
        "\n",
        "# Show Run-averaged background-subtracted ion TOF\n",
        "\n",
        "The output for Runset.averageRunData and Runset.average_run_data_weights has the\n",
        "axes shape (rule, condition, run, data):\n",
        "\"rule\" are the filtering rules\n",
        "\"condition\" is in the order (FEL:ON SLU:ON, FEL:OFF SLU:ON, FEL:ON SLU:OFF, FEL:OFF SLU:OFF)\n",
        "\"run\" are the individual Runs\n",
        "\"data\" is the average rundata/weights"
      ]
    },
    {
      "cell_type": "code",
      "metadata": {},
      "source": [
        "raw_i0m_rundata = BasicRunSet.give_rundata('i0m', make_cache=False, use_cache=False)\n",
        "try:\n",
        "    i0m_runset_data, _ = simplify_data(raw_i0m_rundata, single_rule=True)  # can use simplify_data, because no rules\n",
        "except:\n",
        "    fore_rundata_i0m, back_rundata_iom, *_ = raw_i0m_rundata\n",
        "    i0m_runset_data = fore_rundata_i0m\n",
        "    for i in range(len(i0m_runset_data)):  # collapse the rule dimension\n",
        "        i0m_runset_data[i] = i0m_runset_data[i][0]\n",
        "\n",
        "\n",
        "plt.plot(i0m_runset_data[0,:,0])\n",
        "plt.show()"
      ],
      "outputs": [],
      "execution_count": null
    },
    {
      "cell_type": "markdown",
      "metadata": {},
      "source": [
        "Define rules for filtering here"
      ]
    },
    {
      "cell_type": "code",
      "metadata": {},
      "source": [
        "i0m_edges = np.linspace(-4.5, -3.0, num=4)\n",
        "i0m_bins = i0m_edges[:-1]\n",
        "i0m_filter_rules = [f'(i0m>{lo} & i0m<{hi})' for lo, hi in zip(i0m_edges[:-1], i0m_edges[1:])]\n",
        "print(f'i0m filter rules: {i0m_filter_rules}')"
      ],
      "outputs": [],
      "execution_count": null
    },
    {
      "cell_type": "markdown",
      "metadata": {},
      "source": [
        "Get ion TOF spectra, binned by each of the filtering rules."
      ]
    },
    {
      "cell_type": "code",
      "metadata": {},
      "source": [
        "runset_ion_tof_data = BasicRunSet.average_run_data('ion_tof', back_sep=BACKGROUND,\n",
        "                                    slice_range=ion_tof_slices,\n",
        "                                    rules=i0m_filter_rules,\n",
        "                                    make_cache=MAKE_CACHE, use_cache=LOAD_FROM_CACHE)\n",
        "fore_ion_tof_rawdata, back_ion_tof_rawdata = simplify_data(runset_ion_tof_data, single_rule=False)\n",
        "print(f'shape is (rules, runs, data): {np.shape(fore_ion_tof_rawdata)}')"
      ],
      "outputs": [],
      "execution_count": null
    },
    {
      "cell_type": "code",
      "metadata": {},
      "source": [
        "subt_ion_tof_rawdata = -(fore_ion_tof_rawdata - back_ion_tof_rawdata)\n",
        "subt_ion_tof_spectra = rebinning(ion_tof, raw_ion_tof, subt_ion_tof_rawdata, axis=2)\n",
        "\n",
        "for rule, collected_data in zip(i0m_filter_rules, subt_ion_tof_spectra):\n",
        "    plt.figure(figsize=(5,2))\n",
        "    for run_number, data in zip(run_numbers, collected_data):\n",
        "        plt.plot(ion_tof, data, label=f'Run {run_number:03d}')\n",
        "    plt.legend()\n",
        "    plt.title(f'Ion TOF spectra w/ rule: {rule}')\n",
        "    plt.xlabel('ion TOF (ns)')\n",
        "    plt.xlim(8000, 15000)\n",
        "    plt.show()"
      ],
      "outputs": [],
      "execution_count": null
    },
    {
      "cell_type": "markdown",
      "metadata": {},
      "source": [
        "Use calibration constants for ion TOF -> ion mass/charge spectra"
      ]
    },
    {
      "cell_type": "code",
      "metadata": {},
      "source": [
        "ion_t0 = 6059.316278073492\n",
        "ion_propconst = 7.440783535983542e-07 \n",
        "ion_constants = ion_t0, ion_propconst\n",
        "\n",
        "print(f\"Using ion constants: (t0, C) = {ion_constants}\")\n",
        "tof_to_mq = lambda tof, spec, axis=None: tof_to_mq_conversion(tof, spec, *ion_constants, axis=axis)\n",
        "mq_to_tof = lambda mq, spec, axis=None: mq_to_tof_conversion(mq, spec, *ion_constants, axis=axis)"
      ],
      "outputs": [],
      "execution_count": null
    },
    {
      "cell_type": "code",
      "metadata": {},
      "source": [
        "mq_raw_coor, mq_raw_spectrum = tof_to_mq(raw_ion_tof, subt_ion_tof_rawdata, axis=2)\n",
        "mq_coor = np.linspace(0.1, 70, num=1000)\n",
        "mq_spectra = rebinning(mq_coor, mq_raw_coor, mq_raw_spectrum, axis=2)\n",
        "\n",
        "for rule, collected_mq_data in zip(i0m_filter_rules, mq_spectra):\n",
        "    fig, ax = plt.subplots(1, 1, figsize=(6,2))\n",
        "    for run_number, data in zip(run_numbers, collected_mq_data):\n",
        "        ax.plot(mq_coor, data, label=f'Run {run_number:03d}')\n",
        "    ax.legend()\n",
        "    ax.set_title(f'Ion mass/charge spectra w/ rule: {rule}')\n",
        "    ax.set_xlabel('m/q')\n",
        "    ax.set_xlim(0, 40)\n",
        "    plt.show()"
      ],
      "outputs": [],
      "execution_count": null
    },
    {
      "cell_type": "markdown",
      "metadata": {},
      "source": [
        "Perform filtering rules on VMI data here"
      ]
    },
    {
      "cell_type": "code",
      "metadata": {},
      "source": [
        "runset_vmi_data = BasicRunSet.average_run_data('vmi', back_sep=BACKGROUND,\n",
        "                                    rules=i0m_filter_rules,\n",
        "                                    make_cache=MAKE_CACHE, use_cache=LOAD_FROM_CACHE)\n",
        "fore_vmi_rawdata, back_vmi_rawdata = simplify_data(runset_vmi_data, single_rule=False)\n",
        "print(f'shape is (rules, runs, data): {np.shape(fore_ion_tof_rawdata)}')"
      ],
      "outputs": [],
      "execution_count": null
    },
    {
      "cell_type": "code",
      "metadata": {},
      "source": [
        "subt_vmi_rawdata = (fore_vmi_rawdata - back_vmi_rawdata)\n",
        "\n",
        "for rule, collected_data in zip(i0m_filter_rules, subt_vmi_rawdata):\n",
        "    fig, axes = plt.subplots(1, len(run_numbers), figsize=(6,2))\n",
        "    axes[0].set_ylabel(f'VMI filter rule:\\n{rule}')\n",
        "    for ax, run_number, data in zip(axes, run_numbers, collected_data):\n",
        "        cax = ax.imshow(data, label=f'Run {run_number:03d}')\n",
        "        fig.colorbar(cax, ax=ax)\n",
        "        ax.set_title(f'Run {run_number:03d}')\n",
        "    plt.tight_layout()\n",
        "    plt.show()\n"
      ],
      "outputs": [],
      "execution_count": null
    }
  ],
  "metadata": {
    "anaconda-cloud": {},
    "kernelspec": {
      "display_name": "Python 3",
      "language": "python",
      "name": "python3"
    },
    "language_info": {
      "codemirror_mode": {
        "name": "ipython",
        "version": 3
      },
      "file_extension": ".py",
      "mimetype": "text/x-python",
      "name": "python",
      "nbconvert_exporter": "python",
      "pygments_lexer": "ipython3",
      "version": "3.6.1"
    }
  },
  "nbformat": 4,
  "nbformat_minor": 4
}